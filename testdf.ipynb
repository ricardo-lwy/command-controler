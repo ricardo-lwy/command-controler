{
 "cells": [
  {
   "cell_type": "code",
   "execution_count": null,
   "metadata": {},
   "outputs": [],
   "source": [
    "import pandas as pd\n",
    "from pandas.core.frame import DataFrame"
   ]
  },
  {
   "cell_type": "code",
   "execution_count": null,
   "metadata": {},
   "outputs": [],
   "source": [
    "###目标1：在df中插入列\n",
    "###目标2：在列中插入数据"
   ]
  },
  {
   "cell_type": "code",
   "execution_count": 15,
   "metadata": {},
   "outputs": [],
   "source": [
    "df=pd.read_excel('test.xlsx',sheet_name='Sheet1')"
   ]
  },
  {
   "cell_type": "code",
   "execution_count": null,
   "metadata": {},
   "outputs": [],
   "source": []
  },
  {
   "cell_type": "code",
   "execution_count": 19,
   "metadata": {},
   "outputs": [],
   "source": [
    "df.insert(1, '666', 0)"
   ]
  },
  {
   "cell_type": "code",
   "execution_count": 21,
   "metadata": {},
   "outputs": [
    {
     "data": {
      "text/html": [
       "<div>\n",
       "<style scoped>\n",
       "    .dataframe tbody tr th:only-of-type {\n",
       "        vertical-align: middle;\n",
       "    }\n",
       "\n",
       "    .dataframe tbody tr th {\n",
       "        vertical-align: top;\n",
       "    }\n",
       "\n",
       "    .dataframe thead th {\n",
       "        text-align: right;\n",
       "    }\n",
       "</style>\n",
       "<table border=\"1\" class=\"dataframe\">\n",
       "  <thead>\n",
       "    <tr style=\"text-align: right;\">\n",
       "      <th></th>\n",
       "      <th>ID</th>\n",
       "      <th>666</th>\n",
       "      <th>777</th>\n",
       "      <th>Name</th>\n",
       "      <th>Shipping: First Name</th>\n",
       "      <th>Shipping: Last Name</th>\n",
       "      <th>Shipping: Address 1</th>\n",
       "      <th>Shipping: Address 2</th>\n",
       "      <th>Shipping: Zip</th>\n",
       "      <th>Shipping: City</th>\n",
       "      <th>Shipping: Country</th>\n",
       "      <th>Fulfillment: Status</th>\n",
       "      <th>Fulfillment: Tracking Company</th>\n",
       "      <th>Fulfillment: Tracking Number</th>\n",
       "    </tr>\n",
       "  </thead>\n",
       "  <tbody>\n",
       "    <tr>\n",
       "      <th>0</th>\n",
       "      <td>4475788460184</td>\n",
       "      <td>0</td>\n",
       "      <td>NaN</td>\n",
       "      <td>#Preciousse1758</td>\n",
       "      <td>NaN</td>\n",
       "      <td>duprot</td>\n",
       "      <td>809 Rue de l'Université</td>\n",
       "      <td>NaN</td>\n",
       "      <td>62400</td>\n",
       "      <td>Béthune</td>\n",
       "      <td>France</td>\n",
       "      <td>NaN</td>\n",
       "      <td>NaN</td>\n",
       "      <td>87500005458808Z</td>\n",
       "    </tr>\n",
       "    <tr>\n",
       "      <th>1</th>\n",
       "      <td>4475897217176</td>\n",
       "      <td>0</td>\n",
       "      <td>NaN</td>\n",
       "      <td>#Preciousse1762</td>\n",
       "      <td>Julie</td>\n",
       "      <td>Pouillon</td>\n",
       "      <td>4BIS rue du Bichot</td>\n",
       "      <td>POUILLY-LE-FORT</td>\n",
       "      <td>77240</td>\n",
       "      <td>VERT-SAINT-DENIS</td>\n",
       "      <td>France</td>\n",
       "      <td>NaN</td>\n",
       "      <td>NaN</td>\n",
       "      <td>87500005458809X</td>\n",
       "    </tr>\n",
       "    <tr>\n",
       "      <th>2</th>\n",
       "      <td>4475962294424</td>\n",
       "      <td>0</td>\n",
       "      <td>NaN</td>\n",
       "      <td>#Preciousse1765</td>\n",
       "      <td>monique</td>\n",
       "      <td>sencey</td>\n",
       "      <td>13 chemin de candaubas</td>\n",
       "      <td>NaN</td>\n",
       "      <td>33640</td>\n",
       "      <td>portets</td>\n",
       "      <td>France</td>\n",
       "      <td>NaN</td>\n",
       "      <td>NaN</td>\n",
       "      <td>87500005458810C</td>\n",
       "    </tr>\n",
       "  </tbody>\n",
       "</table>\n",
       "</div>"
      ],
      "text/plain": [
       "              ID  666  777             Name Shipping: First Name  \\\n",
       "0  4475788460184    0  NaN  #Preciousse1758                  NaN   \n",
       "1  4475897217176    0  NaN  #Preciousse1762                Julie   \n",
       "2  4475962294424    0  NaN  #Preciousse1765              monique   \n",
       "\n",
       "  Shipping: Last Name      Shipping: Address 1 Shipping: Address 2  \\\n",
       "0              duprot  809 Rue de l'Université                 NaN   \n",
       "1            Pouillon       4BIS rue du Bichot     POUILLY-LE-FORT   \n",
       "2              sencey   13 chemin de candaubas                 NaN   \n",
       "\n",
       "   Shipping: Zip    Shipping: City Shipping: Country  Fulfillment: Status  \\\n",
       "0          62400           Béthune            France                  NaN   \n",
       "1          77240  VERT-SAINT-DENIS            France                  NaN   \n",
       "2          33640           portets            France                  NaN   \n",
       "\n",
       "   Fulfillment: Tracking Company Fulfillment: Tracking Number  \n",
       "0                            NaN              87500005458808Z  \n",
       "1                            NaN              87500005458809X  \n",
       "2                            NaN              87500005458810C  "
      ]
     },
     "execution_count": 21,
     "metadata": {},
     "output_type": "execute_result"
    }
   ],
   "source": [
    "col_name = df.columns.tolist()\n",
    "col_name.insert(col_name.index('Name'),'777')\n",
    "df.reindex(columns=col_name)"
   ]
  }
 ],
 "metadata": {
  "kernelspec": {
   "display_name": "Python 3.9.0 64-bit",
   "language": "python",
   "name": "python3"
  },
  "language_info": {
   "codemirror_mode": {
    "name": "ipython",
    "version": 3
   },
   "file_extension": ".py",
   "mimetype": "text/x-python",
   "name": "python",
   "nbconvert_exporter": "python",
   "pygments_lexer": "ipython3",
   "version": "3.9.0"
  },
  "orig_nbformat": 4,
  "vscode": {
   "interpreter": {
    "hash": "4f95cac2866d48a154725f15da66ad3889a01053732bcd1fedad154961939282"
   }
  }
 },
 "nbformat": 4,
 "nbformat_minor": 2
}
