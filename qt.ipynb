{
 "cells": [
  {
   "cell_type": "code",
   "execution_count": 1,
   "metadata": {},
   "outputs": [
    {
     "ename": "SystemExit",
     "evalue": "0",
     "output_type": "error",
     "traceback": [
      "An exception has occurred, use %tb to see the full traceback.\n",
      "\u001b[1;31mSystemExit\u001b[0m\u001b[1;31m:\u001b[0m 0\n"
     ]
    },
    {
     "name": "stderr",
     "output_type": "stream",
     "text": [
      "c:\\Users\\simon\\AppData\\Local\\Programs\\Python\\Python39\\lib\\site-packages\\IPython\\core\\interactiveshell.py:3406: UserWarning: To exit: use 'exit', 'quit', or Ctrl-D.\n",
      "  warn(\"To exit: use 'exit', 'quit', or Ctrl-D.\", stacklevel=1)\n"
     ]
    }
   ],
   "source": [
    "from PyQt5 import QtCore, QtGui, QtWidgets\n",
    "from PyQt5.QtGui import QIcon\n",
    "from PyQt5.QtWidgets import *\n",
    "from PyQt5.QtCore import *\n",
    "import pandas as pd\n",
    "import numpy as np\n",
    " \n",
    " \n",
    "class Ui_MainWindow(QMainWindow):\n",
    " \n",
    "    def __init__(self):\n",
    "        super(QtWidgets.QMainWindow,self).__init__()\n",
    "        self.setupUi(self)\n",
    "        self.retranslateUi(self)\n",
    " \n",
    "    def setupUi(self, MainWindow):\n",
    "   \n",
    "       \n",
    "        self.centralWidget = QtWidgets.QWidget(MainWindow)\n",
    "        self.centralWidget.setObjectName(\"centralWidget\")\n",
    "\n",
    "\n",
    " \n",
    "        self.pushButton = QtWidgets.QPushButton(self.centralWidget)\n",
    "        self.pushButton.setGeometry(QtCore.QRect(180, 20, 75, 23))\n",
    "        self.pushButton.setObjectName(\"pushButton\")\n",
    "        self.pushButton.setText(\"选择订单文件\")\n",
    "        MainWindow.setCentralWidget(self.centralWidget)\n",
    "        QtCore.QMetaObject.connectSlotsByName(MainWindow)\n",
    " \n",
    "        self.pushButton.clicked.connect(self.openfile)\n",
    "     \n",
    " \n",
    "    def retranslateUi(self, MainWindow):\n",
    "        _translate = QtCore.QCoreApplication.translate\n",
    "        MainWindow.setWindowTitle(_translate(\"MainWindow\", \"一颗数据小白菜\"))\n",
    " \n",
    " \n",
    "    def openfile(self):\n",
    " \n",
    "        ###获取路径===================================================================\n",
    " \n",
    "        openfile_name = QFileDialog.getOpenFileName(self,'选择文件','','Excel files(*.xlsx , *.xls)')\n",
    " \n",
    "        #print(openfile_name)\n",
    "        global path_openfile_name\n",
    " \n",
    " \n",
    "        ###获取路径====================================================================\n",
    " \n",
    "        path_openfile_name = openfile_name[0]\n",
    " \n",
    " \n",
    "    \n",
    " \n",
    "       \n",
    " \n",
    "if __name__ == \"__main__\":\n",
    "    import sys\n",
    "    app = QtWidgets.QApplication(sys.argv)\n",
    "    MainWindow = QtWidgets.QMainWindow()\n",
    "    ui = Ui_MainWindow()\n",
    "    ui.setupUi(MainWindow)\n",
    "    MainWindow.show()\n",
    "    sys.exit(app.exec_())"
   ]
  },
  {
   "cell_type": "code",
   "execution_count": 2,
   "metadata": {},
   "outputs": [
    {
     "data": {
      "text/plain": [
       "'D:/Bureaux/codes/lettresuivi图像处理/finished_order/22112022.xlsx'"
      ]
     },
     "execution_count": 2,
     "metadata": {},
     "output_type": "execute_result"
    }
   ],
   "source": [
    "path_openfile_name"
   ]
  },
  {
   "cell_type": "code",
   "execution_count": null,
   "metadata": {},
   "outputs": [],
   "source": []
  }
 ],
 "metadata": {
  "kernelspec": {
   "display_name": "Python 3.9.0 64-bit",
   "language": "python",
   "name": "python3"
  },
  "language_info": {
   "codemirror_mode": {
    "name": "ipython",
    "version": 3
   },
   "file_extension": ".py",
   "mimetype": "text/x-python",
   "name": "python",
   "nbconvert_exporter": "python",
   "pygments_lexer": "ipython3",
   "version": "3.9.0"
  },
  "orig_nbformat": 4,
  "vscode": {
   "interpreter": {
    "hash": "4f95cac2866d48a154725f15da66ad3889a01053732bcd1fedad154961939282"
   }
  }
 },
 "nbformat": 4,
 "nbformat_minor": 2
}
